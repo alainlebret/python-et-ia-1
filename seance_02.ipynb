{
 "cells": [
  {
   "cell_type": "markdown",
   "metadata": {},
   "source": [
    "# **Python et intelligence artificielle**\n",
    "\n",
    "# *Séance n°2 : Visualisation avec Matplotlib*\n",
    "\n",
    "---\n",
    "\n",
    "## Objectifs\n",
    "\n",
    "Cette séance va vous initier aux techniques de visualisation de données avec Matplotlib en Python. Vous allez entre autres apprendre à :\n",
    "\n",
    "- Représenter différents types de graphiques (courbes, nuages de points, histogrammes, barres, camemberts, etc.).\n",
    "- Visualiser des données en fonction du temps.\n",
    "- Afficher des images en noir et blanc, en niveaux de gris et en couleur.\n",
    "- Personnaliser vos graphiques pour une meilleure compréhension (titres, axes, légendes, couleurs).\n",
    "- Créer des sous-figures pour organiser des visualisations complexes.\n",
    "- Enregistrer vos graphiques pour des rapports ou des présentations.\n",
    "\n",
    "La séance servira de référence pour vos futurs travaux pratiques, notamment dans le traitement et la visualisation de données scientifiques et techniques.\n",
    "\n",
    "---\n",
    "\n",
    "## Introduction\n",
    "\n",
    "**Matplotlib** est une bibliothèque Python de visualisation de données qui permet de créer des graphiques statiques, animés et interactifs, que ce soit en deux ou en trois dimensions. La bibliothèques est largement utilisée pour :\n",
    "\n",
    "- la visualisation des résultats d'expériences ;\n",
    "- la présentation de résultats dans des rapports techniques ou des publications scientifiques.\n",
    "\n",
    "---\n",
    "\n",
    "## Importation\n",
    "\n",
    "Pour utiliser *Matplotlib*, il est nécessaire d'importer au minimum le module `pyplot` :\n",
    "\n",
    "```python\n",
    "import matplotlib.pyplot as plt\n",
    "```\n",
    "\n",
    "---\n",
    "\n",
    "## Premiers pas\n",
    "\n",
    "### Tracé d'une courbe\n",
    "\n",
    "Imaginons que vous ayez une série de mesures obtenues sur une période de temps. Voici comment vous pourriez visualiser cette série.\n",
    "\n",
    "```python\n",
    "import matplotlib.pyplot as plt\n",
    "import numpy as np\n",
    "\n",
    "# Générer des données de tension\n",
    "temps = np.linspace(0, 10, 100)  # 100 points entre 0 et 10 secondes\n",
    "tension = 220 * np.sin(temps) + 10 * np.random.randn(100)  # Mesures de tension avec du bruit\n",
    "\n",
    "# Créer le graphique\n",
    "plt.plot(temps, tension, label='Tension (V)', color='blue')\n",
    "\n",
    "# Ajouter des labels et un titre\n",
    "plt.xlabel('Temps (s)')\n",
    "plt.ylabel('Tension (V)')\n",
    "plt.title('Variation de la tension dans le temps')\n",
    "\n",
    "# Ajouter une légende\n",
    "plt.legend()\n",
    "\n",
    "# Afficher le graphique\n",
    "plt.grid(True)\n",
    "plt.show()\n",
    "```\n",
    "\n",
    "Cet exemple montre une tension simulée qui fluctue avec du bruit.\n",
    "\n",
    "---\n",
    "\n",
    "## Types de graphiques\n",
    "\n",
    "Matplotlib permet de créer une grande variété de graphiques. Voici les plus couramment utilisés.\n",
    "\n",
    "### Courbes\n",
    "\n",
    "Il est possible de tracer plusieurs courbes sur un même graphique.\n",
    "\n",
    "```python\n",
    "temps = np.linspace(0, 10, 100) # 100 points entre 0 et 10 secondes\n",
    "tension1 = 220 * np.sin(temps) + 10 * np.random.randn(100)\n",
    "tension2 = 220 * np.sin(temps + np.pi/4.0) + 20 * np.random.randn(100)\n",
    "\n",
    "plt.plot(temps, tension1, label='Tension 1 (V)', color='r')\n",
    "plt.plot(temps, tension2, label='Tension 2 (V)', color='b')\n",
    "plt.xlabel('Temps (s)')\n",
    "plt.ylabel('Tension (V)')\n",
    "plt.title('Évolution des tensions dans le temps')\n",
    "plt.legend()\n",
    "plt.grid(True)\n",
    "plt.show()\n",
    "```\n",
    "\n",
    "### Nuages de points (*scatter plots*)\n",
    "\n",
    "Les nuages de points sont très utiles lorsqu'il s'agit de visualiser des corrélations entre deux variables.\n",
    "\n",
    "```python\n",
    "# Générer des données aléatoires de température et pression\n",
    "temperature = np.random.rand(50) * 100  # Températures en °C\n",
    "pression = temperature * 1.5 + np.random.randn(50) * 10  # Pressions avec un peu de bruit\n",
    "\n",
    "plt.scatter(temperature, pression, color='green', marker='o')\n",
    "plt.xlabel('Température (°C)')\n",
    "plt.ylabel('Pression (kPa)')\n",
    "plt.title('Relation entre température et pression')\n",
    "plt.show()\n",
    "```\n",
    "\n",
    "### Histogrammes\n",
    "\n",
    "Les histogrammes sont idéaux pour représenter la répartition d'une variable.\n",
    "\n",
    "```python\n",
    "# Distribution des erreurs de mesure\n",
    "erreurs = np.random.randn(1000)  # 1000 échantillons aléatoires d'une distribution normale\n",
    "\n",
    "plt.hist(erreurs, bins=40, color='purple', alpha=0.7)\n",
    "plt.xlabel('Erreur')\n",
    "plt.ylabel('Fréquence')\n",
    "plt.title('Histogramme des erreurs de mesure')\n",
    "plt.show()\n",
    "```\n",
    "\n",
    "`plt.hist()` permet de tracer un histogramme. L'option `bins=40` divise la plage des erreurs en 40 intervalles. Quant à la valeur de `alpha`, c'est le coefficient d'opacité (70 % d'opacité) qui peut-être utiles lorsque plusieurs distributions sont affichées sur le même graphique.\n",
    "\n",
    "### Graphiques en barres\n",
    "\n",
    "Les graphiques en barre vont permettre la comparaison entre différentes catégories de résultats, par exemples des résultats d'expériences.\n",
    "\n",
    "```python\n",
    "mesures = ['Exp1', 'Exp2', 'Exp3', 'Exp4', 'Exp5']\n",
    "valeurs = [5.1, 7.3, 6.8, 8.0, 7.8]\n",
    "\n",
    "plt.bar(mesures, valeurs, color='orange')\n",
    "plt.xlabel('Expériences')\n",
    "plt.ylabel('Résultats (Unité)')\n",
    "plt.title('Comparaison des résultats expérimentaux')\n",
    "plt.show()\n",
    "```\n",
    "\n",
    "### Diagrammes circulaires\n",
    "\n",
    "```python\n",
    "labels = ['Python', 'C', 'C++', 'Java']\n",
    "sizes = [51, 20, 19, 10]\n",
    "\n",
    "plt.pie(sizes, labels=labels, autopct='%1.1f%%', startangle=140)\n",
    "plt.title('Langages enseignés en GPSE')\n",
    "plt.axis('equal')  # Nécessaire pour un diagramme bien rond :-)\n",
    "plt.show()\n",
    "```\n",
    "\n",
    "---\n",
    "\n",
    "## Affichage d'images\n",
    "\n",
    "### Images en noir et blanc et en niveaux de gris\n",
    "\n",
    "Dans les applications d'imagerie, les images peuvent être visualisées en niveaux de gris ou en noir et blanc.\n",
    "\n",
    "```python\n",
    "# Image en niveaux de gris simulant une capture d'image thermique\n",
    "image = np.random.rand(40, 20)\n",
    "\n",
    "plt.imshow(image, cmap='gray')\n",
    "plt.title('Simulation d\\'une image thermique')\n",
    "plt.colorbar() # Barre des niveaux de gris \n",
    "plt.axis('off')\n",
    "plt.show()\n",
    "```\n",
    "\n",
    "### Images en couleur\n",
    "\n",
    "```python\n",
    "import matplotlib.image as mpimg\n",
    "\n",
    "# Charger une image couleur depuis un fichier local\n",
    "image = mpimg.imread('chemin/vers/votre_image.png')\n",
    "\n",
    "plt.imshow(image)\n",
    "plt.title('Image en couleur')\n",
    "plt.axis('off')\n",
    "plt.show()\n",
    "```\n",
    "\n",
    "---\n",
    "\n",
    "## Personnalisation avancée\n",
    "\n",
    "### Titres, légendes et étiquettes\n",
    "\n",
    "- **Titre de la figure :** `plt.title('Titre de la figure')`\n",
    "- **Labels des axes :** `plt.xlabel('Axe X')`, `plt.ylabel('Axe Y')`\n",
    "- **Légende :** `plt.legend()`\n",
    "\n",
    "### Styles de lignes et de marqueurs\n",
    "\n",
    "- **Couleur :** `color='red'` ou `c='r'`\n",
    "- **Style de ligne :** `linestyle='--'` (pointillés), `'-'` (plein), `':'` (pointillés fins)\n",
    "- **Marqueurs :** `marker='o'` (cercle), `'s'` (carré), `'^'` (triangle)\n",
    "\n",
    "**Exemple :**\n",
    "\n",
    "```python\n",
    "plt.plot(x, y1, 'r--', label='sin(x)')\n",
    "plt.plot(x, y2, 'b:', marker='o', label='cos(x)')\n",
    "```\n",
    "\n",
    "### Couleurs et gammes de couleurs\n",
    "\n",
    "Les couleurs peuvent être définies de différentes manières :\n",
    "\n",
    "- leur nom pour les couleurs prédéfinies : 'blue', 'green', 'red', 'cyan', 'magenta', 'yellow', 'black', 'white', etc. ;\n",
    "- une lettre pour les couleurs prédéfinies : 'b', 'g', 'r', 'c', 'm', 'y', 'k' (noir), 'w' ;\n",
    "- sous forme HTML pour l'ensemble des couleurs avec leurs niveaux de rouge, vert et bleu : '#12aa71' ;\n",
    "- sous forme d'un tuple de valeurs comprises entre 0 et 1 qui indiquent les proportions de rouge, vert et bleu : [0.03, 0.7, 0.27] ;\n",
    "\n",
    "Les gammes de couleurs (*colormap*) permettent d'associer une couleur à un sous-intervalle de valeurs de l'intervalle [0, 1]. Ces gammes de couleurs sont associées à une variable à l'aide du paramètre `cmap`. Exemples de gammes de couleurs : `'viridis'`, `'plasma'`, `cmap='gray'`, etc.\n",
    "\n",
    "\n",
    "### Grilles et axes\n",
    "\n",
    "- **Afficher une grille :** `plt.grid(True)`\n",
    "- **Limiter les axes :** `plt.xlim(0, 10)`, `plt.ylim(-1, 1)`\n",
    "- **Échelle logarithmique :** `plt.xscale('log')`, `plt.yscale('log')`\n",
    "\n",
    "---\n",
    "\n",
    "## Figures multiples et sous-figures\n",
    "\n",
    "Lors de la visualisation de plusieurs signaux ou images, les sous-figures sont utiles pour organiser les visualisations.\n",
    "\n",
    "**Exemple :**\n",
    "\n",
    "```python\n",
    "# Création d'une figure avec 2 lignes et 1 colonnes de sous-figures\n",
    "fig, axes = plt.subplots(2, 1, figsize=(8, 6))\n",
    "\n",
    "# Signal de température\n",
    "axes[0].plot(temps, signal1, 'r-', label='Signal 1 (Unité)')\n",
    "axes[0].set_title('Signal 1')\n",
    "axes[0].grid(True)\n",
    "\n",
    "# Signal de pression\n",
    "axes[1].plot(temps, signal2, 'b-', label='Signal 2 (Unité)')\n",
    "axes[1].set_title('Signal 2')\n",
    "axes[1].grid(True)\n",
    "\n",
    "plt.tight_layout()\n",
    "plt.show()\n",
    "```\n",
    "\n",
    "Vous pouvez aussi partager les axes $x$ ou $y$ entre les sous-figures pour une comparaison directe.\n",
    "\n",
    "```python\n",
    "fig, axes = plt.subplots(2, 1, sharex=True)\n",
    "\n",
    "axes[0].plot(x, y1)\n",
    "axes[1].plot(x, y2)\n",
    "\n",
    "axes[0].set_title('sin(x)')\n",
    "axes[1].set_title('cos(x)')\n",
    "\n",
    "plt.xlabel('x')\n",
    "plt.tight_layout()\n",
    "plt.show()\n",
    "```\n",
    "\n",
    "### Grilles d'images\n",
    "\n",
    "Les grilles permettent d'afficher plusieurs images côte à côte pour les comparer.\n",
    "\n",
    "**Exemple :**\n",
    "\n",
    "```python\n",
    "from skimage import data\n",
    "\n",
    "# Charger des images d'exemple\n",
    "image1 = data.camera()\n",
    "image2 = data.coins()\n",
    "image3 = data.moon()\n",
    "image4 = data.astronaut()\n",
    "\n",
    "fig, axes = plt.subplots(2, 2, figsize=(8, 8))\n",
    "\n",
    "axes[0, 0].imshow(image1, cmap='gray')\n",
    "axes[0, 0].set_title('Camera')\n",
    "axes[0, 0].axis('off')\n",
    "\n",
    "axes[0, 1].imshow(image2, cmap='gray')\n",
    "axes[0, 1].set_title('Coins')\n",
    "axes[0, 1].axis('off')\n",
    "\n",
    "axes[1, 0].imshow(image3, cmap='gray')\n",
    "axes[1, 0].set_title('Moon')\n",
    "axes[1, 0].axis('off')\n",
    "\n",
    "axes[1, 1].imshow(image4)\n",
    "axes[1, 1].set_title('Astronaut')\n",
    "axes[1, 1].axis('off')\n",
    "\n",
    "plt.tight_layout()\n",
    "plt.show()\n",
    "```\n",
    "\n",
    "---\n",
    "\n",
    "## Annotations sur les graphiques\n",
    "\n",
    "Il est possible d'ajouter des commentaires, des flèches ou des informations importantes directement sur un graphique.\n",
    "\n",
    "Exemple :\n",
    "\n",
    "```python\n",
    "# Générer les données\n",
    "x = np.linspace(0, 10, 100)\n",
    "y = x**2\n",
    "\n",
    "# Tracé de la courbe\n",
    "plt.plot(x, y, label='$y = x^2$', color='blue')\n",
    "\n",
    "# Ajout d'annotation au point maximal\n",
    "x_max = x[np.argmax(y)]\n",
    "y_max = max(y)\n",
    "plt.annotate(f'Point maximal\\n({x_max:.2f}, {y_max:.2f})', xy=(x_max, y_max), xytext=(x_max+1, y_max+5), arrowprops=dict(facecolor='black', arrowstyle='->'), fontsize=10)\n",
    "\n",
    "# Ajouter des titres et afficher la légende\n",
    "plt.title('Représentation de la fonction $y = x^2$')\n",
    "plt.xlabel('x')\n",
    "plt.ylabel('y')\n",
    "plt.legend()\n",
    "plt.grid(True)\n",
    "plt.show()\n",
    "```\n",
    "\n",
    "Dans cet exemple :\n",
    "\n",
    "- La fonction `annotate()` est utilisée pour ajouter une annotation au graphique.\n",
    "- Le texte est placé au point (`x_max`, `y_max`), avec une flèche qui pointe vers ce point.\n",
    "\n",
    "---\n",
    "\n",
    "## Sauvegarde des figures\n",
    "\n",
    "Vous pouvez enregistrer vos graphiques dans différents formats (PNG, JPEG, PDF, SVG, etc.) à l'aide de la fonction `savefig`.\n",
    "\n",
    "```python\n",
    "plt.plot(x, y)\n",
    "plt.title('Graphique à enregistrer')\n",
    "plt.savefig('mon_graphique.png', dpi=300)  # dpi définit la résolution\n",
    "plt.show()\n",
    "```"
   ]
  },
  {
   "cell_type": "markdown",
   "metadata": {},
   "source": [
    "\n",
    "---\n",
    "\n",
    "## Exercices\n",
    "\n",
    "### Exercice 1 : Tracer une fonction\n",
    "\n",
    "Soit la fonction $f(t) = A e^{-\\alpha t} \\cos(\\omega t)$.\n",
    "\n",
    "1. Quel phénomène physique représente cette fonction ?\n",
    "2. Tracez la fonction sur l'intervalle [0, 50] avec $A = 5$, $\\alpha = 0.5$ et $\\omega = 2\\pi$.\n",
    "3. Ajoutez un titre et une grille.\n",
    "\n",
    "#### Solution"
   ]
  },
  {
   "cell_type": "code",
   "execution_count": null,
   "metadata": {
    "vscode": {
     "languageId": "plaintext"
    }
   },
   "outputs": [],
   "source": [
    "# Votre code ici\n"
   ]
  },
  {
   "cell_type": "markdown",
   "metadata": {},
   "source": [
    "\n",
    "### Exercice 2 : Comparer des distributions avec leurs histogrammes\n",
    "\n",
    "1. Générez deux jeux de données aléaoires avec des distributions normales (méthode `random.normal()` de *Numpy*).\n",
    "2. Tracez les histogrammes sur le même graphique avec de la transparence.\n",
    "3. Ajoutez une légende pour distinguer les distributions.\n",
    "\n",
    "#### Solution\n"
   ]
  },
  {
   "cell_type": "code",
   "execution_count": null,
   "metadata": {
    "vscode": {
     "languageId": "plaintext"
    }
   },
   "outputs": [],
   "source": [
    "# Votre code ici\n"
   ]
  },
  {
   "cell_type": "markdown",
   "metadata": {},
   "source": [
    "\n",
    "### Exercice 3 : Créer un nuage de points avec couleurs variables\n",
    "\n",
    "1. Générez des données aléatoires $x$ et $y$.\n",
    "2. Utilisez une gamme de couleurs pour attribuer une couleur en fonction de $y$.\n",
    "3. Ajoutez une barre de couleur pour indiquer la correspondance des valeurs.\n",
    "\n",
    "#### Solution\n"
   ]
  },
  {
   "cell_type": "code",
   "execution_count": null,
   "metadata": {
    "vscode": {
     "languageId": "plaintext"
    }
   },
   "outputs": [],
   "source": [
    "# Votre code ici\n"
   ]
  },
  {
   "cell_type": "markdown",
   "metadata": {},
   "source": [
    "\n",
    "### Exercice 4 : Afficher plusieurs images dans des sous-figures\n",
    "\n",
    "1. Chargez quatre images différentes et affichez-les dans une grille 2x2. Vous utiliserez des images de votre choix.\n",
    "2. Ajoutez des titres pour chaque image.\n",
    "3. Masquez les axes pour une meilleure présentation.\n",
    "\n",
    "#### Solution\n"
   ]
  },
  {
   "cell_type": "code",
   "execution_count": null,
   "metadata": {
    "vscode": {
     "languageId": "plaintext"
    }
   },
   "outputs": [],
   "source": [
    "# Votre code ici\n"
   ]
  },
  {
   "cell_type": "markdown",
   "metadata": {},
   "source": [
    "\n",
    "### **Exercice 5 : Tracer des courbes avec des styles différents**\n",
    "\n",
    "1. Tracez les fonctions $sin(x)$, $sin(2x)$ et $sin(3x)$ sur le même graphique avec des styles différents.\n",
    "Vous utiliserez différentes couleurs, styles de lignes et marqueurs.\n",
    "2. Ajoutez une légende pour identifier chaque courbe.\n",
    "\n",
    "#### Solution\n"
   ]
  },
  {
   "cell_type": "code",
   "execution_count": null,
   "metadata": {
    "vscode": {
     "languageId": "plaintext"
    }
   },
   "outputs": [],
   "source": [
    "# Votre code ici\n"
   ]
  },
  {
   "cell_type": "markdown",
   "metadata": {},
   "source": [
    "\n",
    "### **Exercice 6 : Visualisation d'une simulation physique**\n",
    "\n",
    "Nous simulons l'évolution de température et de pression dans un réacteur avec les équations suivantes :\n",
    "\n",
    "$$T = 300 + 10 sin(0.1 t)$$\n",
    "\n",
    "et \n",
    "\n",
    "$$P = 100 + 5 cos(0.1 t)$$\n",
    "\n",
    "Nous souhaitons visualiser les variations de $T$ (°C) et $P$ (en kPa) sur une échelle de temps $t$ allant de 0 à 100 secondes avec 500 acquisitions. \n",
    "\n",
    "1. Tracez les courbes de $T$ et $P$ sur deux sous-figures partageant le même axe des $x$ (le temps).\n",
    "2. Personnalisez le graphique avec des titres, légendes, et grilles.\n",
    "\n",
    "#### Solution\n"
   ]
  },
  {
   "cell_type": "code",
   "execution_count": null,
   "metadata": {
    "vscode": {
     "languageId": "plaintext"
    }
   },
   "outputs": [],
   "source": [
    "# Votre code ici\n"
   ]
  },
  {
   "cell_type": "markdown",
   "metadata": {},
   "source": [
    "### **Exercice 7 : Ajout d'annotations sur une figure**\n",
    "\n",
    "1. Tracez la courbe représentant la fonction sigmoïde donnée par la formule :\n",
    "   $$ f(x) = \\frac{1}{1 + e^{-x}} $$\n",
    "   pour des valeurs de $x$ allant de -10 à 10.\n",
    "2. Ajoutez une annotation au point d'inflexion (c.-à-d. le point où la sigmoïde change de concavité).\n",
    "3. Utilisez une flèche pour pointer vers ce point sur la courbe.\n",
    "\n",
    "#### Solution\n"
   ]
  },
  {
   "cell_type": "code",
   "execution_count": null,
   "metadata": {
    "vscode": {
     "languageId": "plaintext"
    }
   },
   "outputs": [],
   "source": [
    "# Votre code ici"
   ]
  },
  {
   "cell_type": "markdown",
   "metadata": {},
   "source": [
    "\n",
    "### **Exercice 8 : Enregistrement et exportation des figures**\n",
    "\n",
    "1. Reprenez la visualisation de l'exercice 6.\n",
    "2. Sauvegardez la figure dans les formats \"PNG\" et \"PDF\" avec une résolution de 300 DPI.\n",
    "\n",
    "#### Solution\n"
   ]
  },
  {
   "cell_type": "code",
   "execution_count": null,
   "metadata": {
    "vscode": {
     "languageId": "plaintext"
    }
   },
   "outputs": [],
   "source": [
    "# Votre code ici\n"
   ]
  },
  {
   "cell_type": "markdown",
   "metadata": {},
   "source": [
    "### **Exercice 9 : Extraire, afficher et enregistrer**\n",
    "\n",
    "1. À partir du fichier \"`ressources/données_capteur.csv`\", récupérez les données de température, pression et humidité fournies par trois capteurs. Pour extraire les données, vous pouvez utiliser la fonction `split()` qui vous permet de découper chacune des lignes lues.\n",
    "2. Proposez une figure permettant d'afficher au mieux ces différentes mesures en fonction du temps.\n",
    "3. Sauvegardez la figure au format \"PNG\" avec une résolution de 300 DPI.\n"
   ]
  },
  {
   "cell_type": "code",
   "execution_count": null,
   "metadata": {
    "vscode": {
     "languageId": "plaintext"
    }
   },
   "outputs": [],
   "source": [
    "# Votre code ici\n"
   ]
  },
  {
   "cell_type": "markdown",
   "metadata": {},
   "source": [
    "### **Exercice 10 : Matrice de corrélation et carte thermique**\n",
    "\n",
    "En physique, l'analyse de corrélation entre différentes variables est fréquente. Cet exercice propose de visualiser une matrice de corrélation sous forme d'une carte thermique (*heatmap*).\n",
    "\n",
    "1. À partir du fichier \"`ressources/donnees_capteur2.csv`\", récupérez les données de température, pression, humidité et vitesse du vent. \n",
    "2. Calculez la matrice de corrélation entre ces séries de données. Pour ce faire, groupez l'ensemble des données à l'aide de la fonction `numpy.vstack()`, puis déterminez la matrice de corrélation avec la fonction `numpy.corrcoef()`.\n",
    "3. Représentez cette matrice de corrélation sous forme d'une carte thermique avec une barre de couleur pour indiquer l'intensité de la corrélation (vous utiliserez la gamme de couleurs \"coolwarm\").\n",
    "4. Quelles sont les caractéristiques les plus corrélées ?"
   ]
  },
  {
   "cell_type": "code",
   "execution_count": null,
   "metadata": {
    "vscode": {
     "languageId": "plaintext"
    }
   },
   "outputs": [],
   "source": [
    "# Votre code ici\n"
   ]
  },
  {
   "cell_type": "markdown",
   "metadata": {},
   "source": [
    "\n",
    "---\n",
    "\n",
    "## Conclusion\n",
    "\n",
    "Au cours de cette séance, vous avez appris à :\n",
    "\n",
    "- Créer différents types de graphiques.\n",
    "- Afficher des images en noir et blanc, en niveaux de gris et en couleur.\n",
    "- Personnaliser vos graphiques pour les rendre plus clairs et informatifs.\n",
    "- Créer des figures multiples et organiser vos graphiques avec des sous-figures.\n",
    "- Enregistrer vos figures pour une utilisation ultérieure.\n",
    "\n",
    "**Ce TP est une ressource que vous pourrez consulter à nouveau lors de vos futurs travaux pratiques.** N'hésitez pas à revenir dessus lorsqu'il vous faudra visualiser vos données et présenter vos résultats.\n",
    "\n",
    "---\n",
    "\n",
    "## Ressources\n",
    "\n",
    "- **Documentation officielle de *Matplotlib*** : [https://matplotlib.org/stable/contents.html](https://matplotlib.org/stable/contents.html)\n",
    "- **Tutoriels *Matplotlib*** : [https://matplotlib.org/stable/tutorials/index.html](https://matplotlib.org/stable/tutorials/index.html)\n",
    "- **Galerie d'exemples** : [https://matplotlib.org/stable/gallery/index.html](https://matplotlib.org/stable/gallery/index.html)\n",
    "- **Guide sur les gammes de couleurs** : [https://matplotlib.org/stable/tutorials/colors/colormaps.html](https://matplotlib.org/stable/tutorials/colors/colormaps.html)\n",
    "- **NumPy** : [https://numpy.org/doc/](https://numpy.org/doc/)\n",
    "- **Scikit-image** : [https://scikit-image.org/](https://scikit-image.org/)\n",
    "\n",
    "---\n"
   ]
  }
 ],
 "metadata": {
  "language_info": {
   "name": "python"
  }
 },
 "nbformat": 4,
 "nbformat_minor": 2
}
