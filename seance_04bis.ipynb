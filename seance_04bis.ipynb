{
 "cells": [
  {
   "cell_type": "markdown",
   "id": "5a9cde04-864f-4640-8fe6-2464e9f007a3",
   "metadata": {},
   "source": [
    "TP - Introduction à la programmation orientée objet (suite)\n",
    "====="
   ]
  },
  {
   "cell_type": "markdown",
   "id": "c78532c0-ed3c-4280-8d8f-6f900b02d497",
   "metadata": {},
   "source": [
    "# Objectif\n",
    "\n",
    "Dans ce deuxième TP sur la programmation orientée objet, nous allons simuler le fonctionnement (extrêmement simplifié) d'une centrale nucléaire en utilisant le paradigme objet en Python. Vous allez dans un premier temps modéliser différents composants de la centrale, tels que le(s) réacteur(s), le(s) système(s) de refroidissement et les capteurs. Ensuite, vous intégrerez ces composants afin de simuler le fonctionnement global de la centrale. Enfin vous réaliserez quelques tests sur votre centrale."
   ]
  },
  {
   "cell_type": "markdown",
   "id": "d54b3b50-6c61-48a4-b09a-c0b10d6b139e",
   "metadata": {},
   "source": [
    "# Partie 1 : modélisation des composants de la centrale\n",
    "\n",
    "Définissez chacune des classes suivantes :\n",
    "\n",
    "## 1.1. Classe `Reactor`\n",
    "\n",
    "Cette classe représente un réacteur nucléaire. Elle doit avoir les attributs suivants :\n",
    "\n",
    "- `power` : la puissance fournie par le réacteur (pourcentage de sa puissance maximale).\n",
    "- `temperature` : la température du réacteur.\n",
    "\n",
    "On trouve aussi les constantes :\n",
    "\n",
    "- `MAX_OPERATING_POWER` fixée à 80 % \n",
    "- `NORMAL_OPERATING_POWER` fixée à 50 % \n",
    "- `MAX_ALLOWABLE_TEMPERATURE` fixée à 345°C\n",
    "\n",
    "Le constructeur :\n",
    "\n",
    "- `__init__(self)` : crée un réacteur dont la puissance fournie est à 0 % de sa puissance maximale et dont la température est à 0°C.\n",
    "\n",
    "Et les méthodes :\n",
    "\n",
    "- `increase_power(self, percentage)` : augmente la puissance du réacteur de `percentage` % (la valeur ne pouvant augmenter au-delà de  `MAX_OPERATING_POWER`). Cette augmentation a pour effet d'induire une augmentation de la température du réacteur de `percentage`*5°C (température qui sera verrouillée à `MAX_ALLOWABLE_TEMPERATURE`).\n",
    "- `decrease_power(self, percentage)` : diminue la puissance du réacteur de `percentage` % (la valeur ne pouvant diminuer en-dessous de 0 %). Cette diminution a pour effet d'induire une diminution de la température du réacteur de 5°C. Évidemment, puissance et température ne pourront être négatifs.\n",
    "- `cool_down(self)` : abaisse la température du réacteur de 10°C (cet abaissement pourra avoir lieu lorsque le système de refroidsissement sera activé).\n",
    "- `get_power(self)` : retourne la puissance actuelle du réacteur.\n",
    "- `get_temperature(self)` : retourne la température actuelle du réacteur."
   ]
  },
  {
   "cell_type": "code",
   "execution_count": 58,
   "id": "e3c0f3e7-a8db-4311-aa13-7926771bd3df",
   "metadata": {},
   "outputs": [],
   "source": [
    "#\n",
    "# Reactor class to define\n",
    "#"
   ]
  },
  {
   "cell_type": "markdown",
   "id": "ba7f3f91-277c-4ba0-848e-6a3125f8050d",
   "metadata": {},
   "source": [
    "## 1.2. Classe `CoolingSystem`\n",
    "\n",
    "Cette classe représente le système de refroidissement de la centrale. Elle doit avoir les attributs suivants :\n",
    "\n",
    "- `status` : état actuel du système (`active` ou `inactive`).\n",
    "- `coolant_temperature` : température du liquide de refroidissement.\n",
    "\n",
    "Le constructeur :\n",
    "\n",
    "- `__init__(self)` : crée un système de refroidissement dont l'état est inactif et dont la température du liquide est à 25°C.\n",
    "\n",
    "Et les méthodes :\n",
    "\n",
    "- `activate(self)` : active le système de refroidissement (l'activation augmentant sa température de +5°C).\n",
    "- `deactivate(self)` : désactive le système de refroidissement (la désactivation diminuant sa température de +5°C).\n",
    "- `get_coolant_temperature(self)` : retourne la température du liquide de refroidissement."
   ]
  },
  {
   "cell_type": "code",
   "execution_count": 19,
   "id": "cbf4edd2-97c4-4b61-a9d6-808816d7b55a",
   "metadata": {},
   "outputs": [],
   "source": [
    "#\n",
    "# CoolingSystem class to define\n",
    "#"
   ]
  },
  {
   "cell_type": "markdown",
   "id": "963eacea-e707-459c-8c25-aa66552e0a1c",
   "metadata": {},
   "source": [
    "## 1.3. Classe `Sensor`\n",
    "\n",
    "Cette classe représente un capteur générique. Elle doit avoir les attributs suivants :\n",
    "\n",
    "- `sensor_id` : identifiant du capteur.\n",
    "- `location` : emplacement du capteur dans la centrale.\n",
    "- `data` : données lues par le capteur (initialement on lui affecte l'objet `None`).\n",
    "- `error_margin` : erreur de mesure du capteur.\n",
    "\n",
    "Le constructeur : \n",
    "\n",
    "- `__init__(self, sensor_id, location, error_margin=0.05)` : crée un capteur ayant un identifiant (chaîne de caractères), une localisation (chaîne de caractères), et une erreur de lecture spécifique.\n",
    "\n",
    "Et les méthodes :\n",
    "\n",
    "- `read_data(self, source)` : lit les données depuis la source considérée. Cette méthode doit impérativement être redéfinie dans les classes filles.\n",
    "- `display_data(self)` : affiche les informations du capteur (identifiant, position et données lues).\n",
    "- `add_measurement_error(self, value)`: ajoute à value une erreur de lecture aléatoire pour ce capteur (comprise entre -`error_margin` et +`error_margin`) et retourne la nouvelle valeur. "
   ]
  },
  {
   "cell_type": "code",
   "execution_count": 20,
   "id": "4116f8e1-d6b9-4291-ad2d-8dacb2c28569",
   "metadata": {},
   "outputs": [],
   "source": [
    "import random\n",
    "import time\n",
    "\n",
    "#\n",
    "# Sensor class to complete\n",
    "#\n",
    "class Sensor:\n",
    "    def __init__(self, sensor_id, location, error_margin=0.05):\n",
    "        self.sensor_id = sensor_id\n",
    "        self.location = location\n",
    "        self.data = None\n",
    "        self.error_margin = error_margin\n",
    "\n",
    "    def read_data(self, source):\n",
    "        \"\"\"Reads data from a given source.\"\"\"\n",
    "        raise NotImplementedError(\"La méthode read_data() doit être implémentée par les classes filles.\")\n",
    "\n",
    "    def display_data(self):\n",
    "        \"\"\"Displays data.\"\"\"\n",
    "        if self.data is not None:\n",
    "            print(f\"Capteur : {self.sensor_id}, Emplacement : {self.location}, Données : {self.data}\")\n",
    "        else:\n",
    "            print(\"Aucune donnée disponible.\")\n"
   ]
  },
  {
   "cell_type": "markdown",
   "id": "26082f6d-b6ff-40f9-8cd9-3f3ac61a0b28",
   "metadata": {},
   "source": [
    "## 1.4. Classe `TemperatureSensor`\n",
    "\n",
    "Cette classe représente un capteur de température. Elle hérite de la classe `Sensor` et doit avoir les attributs suivants :\n",
    "\n",
    "- `unit` : unité de mesure du capteur (dans notre cas °C).\n",
    "\n",
    "Le constructeur : \n",
    "\n",
    "- `__init__(self, sensor_id, location, unit=\"Celsius\")` : crée un capteur de températur ayant un identifiant (chaîne de caractères), une localisation (chaîne de caractères), et une unité pour la mesure.\n",
    "\n",
    "Et les méthodes :\n",
    "\n",
    "- `read_data(self, reactor)` : lit la température du réacteur (n'oubliez pas de prendre en compte son erreur de mesure).\n",
    "- `display_data(self)` : affiche les informations du capteur (identifiant, position et température lue).\n"
   ]
  },
  {
   "cell_type": "code",
   "execution_count": 56,
   "id": "d20b30cc-f01f-4c37-99dd-1aff211750bb",
   "metadata": {},
   "outputs": [],
   "source": [
    "#\n",
    "# TemperatureSensor to define\n",
    "#"
   ]
  },
  {
   "cell_type": "markdown",
   "id": "d0a2627a-7341-4f8f-9774-8d3615a4ec33",
   "metadata": {},
   "source": [
    "# Partie 2 : intégration et simulation\n",
    "\n",
    "## 2.1. Intégration des composants\n",
    "\n",
    "Créez une classe `NuclearPlant` qui intègre les composants précédents. Cette classe doit avoir les attributs suivants :\n",
    "\n",
    "- `reactor` : une instance de la classe `Reactor`.\n",
    "- `cooling_system` : une instance de la classe `CoolingSystem`.\n",
    "- `sensors` : la liste des capteurs (ici 2 instances de la classe `TemperatureSensor`).\n",
    "- `min_threshold_temperature` : le seuil de température permettant la désactivation du système de refroidissement.\n",
    "- `max_threshold_temperature` : le seuil de température permettant l'activation du système de refroidissement.\n",
    "\n",
    "Le constructeur : \n",
    "\n",
    "- `__init__(self, min_threshold_temperature=320, max_threshold_temperature=450)` : crée une centrale nucléaire composée d'un reacteur, d'un système de refroidissement, d'une liste de capteurs (dans notre cas 2 capteurs de température), et ayant 2 températures de bascule permettant de désactiver ou d'activer automatiquement le système de refroidissement.\n",
    "\n",
    "Et la méthode :\n",
    "\n",
    "- `simulate(self)` : simule le fonctionnement de la centrale pendant un certain temps (par exemple, 10 minutes). Pendant cette simulation, la température du réacteur et du liquide de refroidissement doit être mise à jour régulièrement. Si la température du réacteur dépasse\n",
    "  `max_threshold_temperature` alors le système de refroidissement doit être activé, et lors d'un refroidissement, on choisira de désactiver\n",
    "  celui-ci dès que la température descend sous le seuil `min_threshold_temperature`.\n"
   ]
  },
  {
   "cell_type": "code",
   "execution_count": 59,
   "id": "cbbf53b7-9cd1-42ef-9be5-e4899f4d65c0",
   "metadata": {},
   "outputs": [],
   "source": [
    "#\n",
    "# NuclearPlant class to define\n",
    "#"
   ]
  },
  {
   "cell_type": "markdown",
   "id": "6881454f-6221-49a0-b262-5f711e97c494",
   "metadata": {},
   "source": [
    "## 2.2. Interface graphique\n",
    "\n",
    "Nous utilisons un certain nombre de *widgets* Jupyter pour créer une interface graphique permettant de contrôler le réacteur de la centrale ainsi que le système de refroidissement. Si vos classes sont correctement définies, vous devriez pouvoir contrôler la puissance du réacteur, activer/désactiver le refroidissement et visualiser la température actuelle du réacteur.\n",
    "La documentation sur les *widgets* se trouve à cette adresse : [https://ipywidgets.readthedocs.io/en/stable/](https://ipywidgets.readthedocs.io/en/stable/)"
   ]
  },
  {
   "cell_type": "code",
   "execution_count": 60,
   "id": "d90beac2-6168-4ffb-b206-2fbaab4753ac",
   "metadata": {},
   "outputs": [
    {
     "data": {
      "application/vnd.jupyter.widget-view+json": {
       "model_id": "32ad6c617fb5474388d56588be74344a",
       "version_major": 2,
       "version_minor": 0
      },
      "text/plain": [
       "VBox(children=(Label(value='Contrôle de la centrale nucléaire :'), IntSlider(value=50, continuous_update=False…"
      ]
     },
     "metadata": {},
     "output_type": "display_data"
    }
   ],
   "source": [
    "import ipywidgets as widgets\n",
    "from IPython.display import display, clear_output\n",
    "\n",
    "# Initialisation de l'objet NuclearPlant\n",
    "plant = NuclearPlant()\n",
    "\n",
    "# Interface graphique\n",
    "power_slider = widgets.IntSlider(value=plant.reactor.NORMAL_OPERATING_POWER, min=0, max=100, description=\"Puissance (%)\", continuous_update=False)\n",
    "cooling_button = widgets.ToggleButton(value=False, description=\"Refroidissement\", icon=\"check\", style=dict(\n",
    "    font_weight='bold',\n",
    "    font_variant=\"small-caps\",\n",
    "    text_color='blue',\n",
    "    text_decoration='underline'\n",
    "))\n",
    "reactor_temperature_progress = widgets.FloatProgress(value=300, min=0, max=1000, description=\"Temp. Réacteur :\", bar_style=\"info\")\n",
    "cooling_status_label = widgets.Label(value=\"État du système de refroidissement : {}\".format(plant.cooling_system.status))\n",
    "sensor_output = widgets.Output()\n",
    "output = widgets.Output()  \n",
    "\n",
    "def update_display():\n",
    "    with output:\n",
    "        clear_output(wait=True)\n",
    "\n",
    "        # Read data from sensors\n",
    "        for sensor in plant.sensors:\n",
    "            sensor.read_data(plant.reactor)\n",
    "        \n",
    "        # Get all data \n",
    "        temps = [sensor.data for sensor in plant.sensors]\n",
    "        \n",
    "        # ---------------------------------------------------------------------------------\n",
    "        # 1) Update the progress bar color according to the average temperature\n",
    "        # (do not consider None -- that is the case when starting).\n",
    "        # 2) \n",
    "        # IF mean temperature < min_threshold_temperature in plant\n",
    "        # THEN reactor_temperature_progress.bar_style = \"success\" (green color)\n",
    "        # ELSE IF min_threshold_temperature in plant < mean temperature\n",
    "        # THEN reactor_temperature_progress.bar_style = \"warning\" (orange color)\n",
    "        # ELSE reactor_temperature_progress.bar_style = \"danger\" (red color)\n",
    "        # TO COMPLETE\n",
    "        # ---------------------------------------------------------------------------------\n",
    "        \n",
    "        reactor_temperature_progress.value = avg_temp\n",
    "        cooling_status_label.value = \"État du système de refroidissement : {}\".format(plant.cooling_system.status)\n",
    "        display(reactor_temperature_progress, cooling_status_label)\n",
    "        \n",
    "        # Display all data\n",
    "        with sensor_output:\n",
    "            clear_output(wait=True)  \n",
    "            for sensor in plant.sensors:\n",
    "                sensor.display_data()\n",
    "        display(sensor_output)\n",
    "\n",
    "def on_power_change(change):\n",
    "    if change[\"new\"] > change[\"old\"]:\n",
    "        plant.reactor.increase_power(change[\"new\"] - change[\"old\"])\n",
    "    else:\n",
    "        plant.reactor.decrease_power(change[\"old\"] - change[\"new\"])\n",
    "    update_display()\n",
    "\n",
    "def on_cooling_button_click(change):\n",
    "    if change[\"new\"]:\n",
    "        plant.cooling_system.activate()\n",
    "    else:\n",
    "        plant.cooling_system.deactivate()\n",
    "    update_display()\n",
    "\n",
    "power_slider.observe(on_power_change, names=\"value\")\n",
    "cooling_button.observe(on_cooling_button_click, names=\"value\")\n",
    "\n",
    "display(widgets.VBox([widgets.Label(value=\"Contrôle de la centrale nucléaire :\"), power_slider, cooling_button, output]))\n",
    "update_display()"
   ]
  },
  {
   "cell_type": "markdown",
   "id": "012d1f80-5ec7-4ca8-adab-6df257e35495",
   "metadata": {},
   "source": [
    "# Partie 3 : scénarios de test\n",
    "\n",
    "Vous allez tester votre centrale en créant 3 différents scénarios."
   ]
  },
  {
   "cell_type": "markdown",
   "id": "3222f66e-cc12-46e3-a58c-b8d34161d66f",
   "metadata": {},
   "source": [
    "## 3.1. Que se passe-t-il si le réacteur surchauffe ?\n",
    "\n",
    "Définissez la fonction `test_reactor_overheat(NuclearPlant)` qui réalisera les opérations suivantes :\n",
    "\n",
    "1. Augmentation de la puissance du réacteur à un niveau élevé (par exemple 90%).\n",
    "2. Récupération et affichage de la moyenne des températures lues par les deux capteurs pendant une dizaine de minutes (même avec l'erreur de mesure, les deux devraient indiquer une température élevée).\n",
    "3. Test de l'activation automatique du système de refroidissement lorsque la température moyenne dépasse le seuil.\n"
   ]
  },
  {
   "cell_type": "code",
   "execution_count": 47,
   "id": "4e84c2a0-2504-4faa-b721-baa7bcec2fa2",
   "metadata": {},
   "outputs": [],
   "source": [
    "#\n",
    "# Function test_reactor_overheat(NuclearPlant) to define\n",
    "#"
   ]
  },
  {
   "cell_type": "markdown",
   "id": "eac14380-6964-4044-9467-08357bbebf85",
   "metadata": {},
   "source": [
    "## 3.2. Qu'elle est la réaction si le système de refroidissement est désactivé pendant une surchauffe ?\n",
    "\n",
    "Définissez la fonction `test_cooling_system_deactivated(NuclearPlant)` qui réalisera les opérations suivantes :\n",
    "\n",
    "1. Augmentation de la puissance du réacteur à un niveau élevé (par exemple, 90%).\n",
    "2. Désactivation du système de refroidissement.\n",
    "3. Récupération et affichage de la moyenne des températures lues par les deux capteurs pendant une dizaine de minutes.\n",
    "4. Vérification de l'activation automatique du système de refroidissement une fois que la température moyenne dépasse un certain seuil critique.\n"
   ]
  },
  {
   "cell_type": "code",
   "execution_count": 48,
   "id": "bddc4af4-cc4d-41d6-b6fd-732e81573c5e",
   "metadata": {},
   "outputs": [],
   "source": [
    "#\n",
    "# Function test_cooling_system_deactivation(NuclearPlant) to define\n",
    "#\n"
   ]
  },
  {
   "cell_type": "markdown",
   "id": "09e5bfd0-5574-456d-bde3-8a5f6731eb65",
   "metadata": {},
   "source": [
    "## 3.3. Quelle est la température maximale que le réacteur peut atteindre avant que le système de refroidissement ne soit activé ?\n",
    "\n",
    "Définissez la fonction `test_max_temperature_before_cooling(NuclearPlant)` qui réalisera les opérations suivantes :\n",
    "\n",
    "1. Augmentation progressive de la puissance du réacteur par paliers de 10% tout en observant la moyenne des lectures des capteurs.\n",
    "2. Affichage de la température moyenne au moment où le système de refroidissement s'active automatiquement."
   ]
  },
  {
   "cell_type": "code",
   "execution_count": 49,
   "id": "8081853a-4c26-4ab0-8325-88ddd80d3633",
   "metadata": {},
   "outputs": [],
   "source": [
    "#\n",
    "# Function test_max_temperature_before_cooling(NuclearPlant) to define\n",
    "#\n"
   ]
  },
  {
   "cell_type": "markdown",
   "id": "56f986ab-5db4-487d-851f-f3ad3cf21760",
   "metadata": {},
   "source": [
    "### Exécution des 3 tests"
   ]
  },
  {
   "cell_type": "code",
   "execution_count": 50,
   "id": "b79efc48-bf8e-443f-8b24-a8d85e140024",
   "metadata": {},
   "outputs": [
    {
     "name": "stdout",
     "output_type": "stream",
     "text": [
      "Test de surchauffe du réacteur\n",
      "Température moyenne : 334.38°C\n",
      "Température moyenne : 336.04°C\n",
      "Température moyenne : 369.17°C\n",
      "Température moyenne : 397.24°C\n",
      "Température moyenne : 402.67°C\n",
      "Température moyenne : 432.73°C\n",
      "Température moyenne : 439.26°C\n",
      "Température moyenne : 477.93°C\n",
      "Température moyenne : 488.59°C\n",
      "Température moyenne : 542.57°C\n",
      "La température du réacteur a dépassé la limite sécuritaire.\n",
      "Le système de refroidissement devrait être activé !\n",
      "\n",
      "Test de désactivation du système de refroidissement pendant une surchauffe\n",
      "Température moyenne : 545.78°C\n",
      "Température moyenne : 560.78°C\n",
      "Température moyenne : 603.19°C\n",
      "Température moyenne : 611.14°C\n",
      "Température moyenne : 639.35°C\n",
      "Température moyenne : 680.91°C\n",
      "Température moyenne : 683.41°C\n",
      "Température moyenne : 676.14°C\n",
      "Température moyenne : 710.76°C\n",
      "Température moyenne : 727.49°C\n",
      "La température du réacteur est restée dans la plage sécuritaire.\n",
      "\n",
      "Récupération de la température maximale avant activation du système de refroidissement\n",
      "Température moyenne à 10% de puissance: 713.49°C\n",
      "Température moyenne à 20% de puissance: 725.85°C\n",
      "Température moyenne à 30% de puissance: 735.64°C\n",
      "Température moyenne à 40% de puissance: 747.21°C\n",
      "Température moyenne à 50% de puissance: 733.32°C\n",
      "Température moyenne à 60% de puissance: 742.56°C\n",
      "Température moyenne à 70% de puissance: 752.10°C\n",
      "Température moyenne à 80% de puissance: 740.84°C\n",
      "Température moyenne à 90% de puissance: 790.30°C\n",
      "Température moyenne à 100% de puissance: 814.76°C\n",
      "Température maximale atteinte: 814.76°C\n"
     ]
    }
   ],
   "source": [
    "plant = NuclearPlant()\n",
    "\n",
    "test_reactor_overheat(plant)\n",
    "test_cooling_system_deactivation(plant)\n",
    "test_max_temperature_before_cooling(plant)"
   ]
  },
  {
   "cell_type": "markdown",
   "id": "9a6551ce-2851-4ee4-9ff3-ce8592fa3b21",
   "metadata": {},
   "source": [
    "### Interface graphique pour la simulation des scénarios\n"
   ]
  },
  {
   "cell_type": "code",
   "execution_count": 63,
   "id": "8252cc84-d95b-47a0-a767-d3d73b7abbc1",
   "metadata": {},
   "outputs": [
    {
     "data": {
      "application/vnd.jupyter.widget-view+json": {
       "model_id": "e9ee96624b90474499adb58df09b2d4c",
       "version_major": 2,
       "version_minor": 0
      },
      "text/plain": [
       "VBox(children=(Label(value='Test de la centrale nucléaire :'), IntSlider(value=50, continuous_update=False, de…"
      ]
     },
     "metadata": {},
     "output_type": "display_data"
    }
   ],
   "source": [
    "import ipywidgets as widgets\n",
    "from IPython.display import display, clear_output\n",
    "\n",
    "# Widgets to control our nuclear plant\n",
    "power_slider = widgets.IntSlider(value=50, min=0, max=100, description=\"Puissance (%)\", continuous_update=False)\n",
    "cooling_button = widgets.ToggleButton(value=False, description=\"Refroidissement\", icon=\"check\")\n",
    "reactor_temperature_progress = widgets.FloatProgress(value=300, min=0, max=1000, description=\"Temp. moyenne :\", bar_style=\"info\")\n",
    "sensor1_label = widgets.Label(value=\"Capteur 1 : 300°C\")\n",
    "sensor2_label = widgets.Label(value=\"Capteur 2 : 300°C\")\n",
    "\n",
    "# Buttons for our 3 tests\n",
    "test1_button = widgets.Button(description=\"Test 1 : surchauffe du réacteur\")\n",
    "test2_button = widgets.Button(description=\"Test 2 : désactivation du refroidissement\")\n",
    "test3_button = widgets.Button(description=\"Test 3 : température maximale avant refroidissement\")\n",
    "\n",
    "output = widgets.Output()\n",
    "\n",
    "def update_display():\n",
    "    with output:\n",
    "        clear_output(wait=True)\n",
    "        \n",
    "        # Read data from sensors\n",
    "        for sensor in plant.sensors:\n",
    "            sensor.read_data(plant.reactor)\n",
    "        \n",
    "        # Compute the average temperature from sensor data\n",
    "        avg_temp = sum([sensor.data for sensor in plant.sensors]) / len(plant.sensors)\n",
    "        \n",
    "        # Update the progress bar color according to the average temparature\n",
    "        if avg_temp < plant.min_threshold_temperature:\n",
    "            reactor_temperature_progress.bar_style = \"success\"  # Vert\n",
    "        elif plant.min_threshold_temperature <= avg_temp < plant.max_threshold_temperature:\n",
    "            reactor_temperature_progress.bar_style = \"warning\"  # Jaune\n",
    "        else:\n",
    "            reactor_temperature_progress.bar_style = \"danger\"   # Rouge\n",
    "        \n",
    "        reactor_temperature_progress.value = avg_temp\n",
    "        sensor1_label.value = f\"Capteur 1 : {plant.sensors[0].data:.2f}°C\"\n",
    "        sensor2_label.value = f\"Capteur 2 : {plant.sensors[1].data:.2f}°C\"\n",
    "        \n",
    "        display(reactor_temperature_progress, sensor1_label, sensor2_label)\n",
    "\n",
    "def on_power_change(change):\n",
    "    if change[\"new\"] > change[\"old\"]:\n",
    "        plant.reactor.increase_power(change[\"new\"] - change[\"old\"])\n",
    "    else:\n",
    "        plant.reactor.decrease_power(change[\"old\"] - change[\"new\"])\n",
    "    update_display()\n",
    "\n",
    "def on_cooling_button_click(change):\n",
    "    if change[\"new\"]:\n",
    "        plant.cooling_system.activate()\n",
    "    else:\n",
    "        plant.cooling_system.deactivate()\n",
    "    update_display()\n",
    "\n",
    "def on_test1_button_click(b):\n",
    "    test_reactor_overheat(plant)\n",
    "    update_display()\n",
    "\n",
    "def on_test2_button_click(b):\n",
    "    test_cooling_system_deactivation(plant)\n",
    "    update_display()\n",
    "\n",
    "def on_test3_button_click(b):\n",
    "    test_max_temperature_before_cooling(plant)\n",
    "    update_display()\n",
    "\n",
    "power_slider.observe(on_power_change, names=\"value\")\n",
    "cooling_button.observe(on_cooling_button_click, names=\"value\")\n",
    "test1_button.on_click(on_test1_button_click)\n",
    "test2_button.on_click(on_test2_button_click)\n",
    "test3_button.on_click(on_test3_button_click)\n",
    "\n",
    "plant = NuclearPlant()\n",
    "\n",
    "display(widgets.VBox([widgets.Label(value=\"Test de la centrale nucléaire :\"), power_slider, cooling_button, output, test1_button, test2_button, test3_button]))\n",
    "update_display()\n"
   ]
  },
  {
   "cell_type": "code",
   "execution_count": null,
   "id": "9d38328d-35e8-4c0a-814d-e6a813218e6e",
   "metadata": {},
   "outputs": [],
   "source": []
  }
 ],
 "metadata": {
  "kernelspec": {
   "display_name": "Python 3 (ipykernel)",
   "language": "python",
   "name": "python3"
  },
  "language_info": {
   "codemirror_mode": {
    "name": "ipython",
    "version": 3
   },
   "file_extension": ".py",
   "mimetype": "text/x-python",
   "name": "python",
   "nbconvert_exporter": "python",
   "pygments_lexer": "ipython3",
   "version": "3.11.6"
  }
 },
 "nbformat": 4,
 "nbformat_minor": 5
}
