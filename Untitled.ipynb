{
 "cells": [
  {
   "cell_type": "code",
   "execution_count": 4,
   "id": "0346a870-5161-4943-827d-a0e2037d3f99",
   "metadata": {},
   "outputs": [
    {
     "ename": "ModuleNotFoundError",
     "evalue": "The requested file is part of the scikit-image distribution, but requires the installation of an optional dependency, pooch. To install pooch, use your preferred python package manager. Follow installation instruction found at https://scikit-image.org/docs/stable/user_guide/install.html",
     "output_type": "error",
     "traceback": [
      "\u001b[0;31m---------------------------------------------------------------------------\u001b[0m",
      "\u001b[0;31mModuleNotFoundError\u001b[0m                       Traceback (most recent call last)",
      "Cell \u001b[0;32mIn[4], line 8\u001b[0m\n\u001b[1;32m      5\u001b[0m \u001b[38;5;28;01mfrom\u001b[39;00m \u001b[38;5;21;01mmpl_toolkits\u001b[39;00m\u001b[38;5;21;01m.\u001b[39;00m\u001b[38;5;21;01mmplot3d\u001b[39;00m\u001b[38;5;21;01m.\u001b[39;00m\u001b[38;5;21;01mart3d\u001b[39;00m \u001b[38;5;28;01mimport\u001b[39;00m Poly3DCollection\n\u001b[1;32m      7\u001b[0m \u001b[38;5;66;03m# Charger un volume IRM (exemple avec la bibliothèque skimage)\u001b[39;00m\n\u001b[0;32m----> 8\u001b[0m volume \u001b[38;5;241m=\u001b[39m \u001b[43mdata\u001b[49m\u001b[38;5;241;43m.\u001b[39;49m\u001b[43mbrain\u001b[49m\u001b[43m(\u001b[49m\u001b[43m)\u001b[49m  \u001b[38;5;66;03m# Exemple d'image 3D\u001b[39;00m\n\u001b[1;32m     10\u001b[0m \u001b[38;5;66;03m# Définir une valeur seuil pour l'isovaleur (en fonction de l'intensité du volume)\u001b[39;00m\n\u001b[1;32m     11\u001b[0m threshold \u001b[38;5;241m=\u001b[39m \u001b[38;5;241m100\u001b[39m  \u001b[38;5;66;03m# Choisissez une valeur adaptée pour extraire la surface\u001b[39;00m\n",
      "File \u001b[0;32m/opt/homebrew/lib/python3.12/site-packages/skimage/data/_fetchers.py:1223\u001b[0m, in \u001b[0;36mbrain\u001b[0;34m()\u001b[0m\n\u001b[1;32m   1204\u001b[0m \u001b[38;5;28;01mdef\u001b[39;00m \u001b[38;5;21mbrain\u001b[39m():\n\u001b[1;32m   1205\u001b[0m \u001b[38;5;250m    \u001b[39m\u001b[38;5;124;03m\"\"\"Subset of data from the University of North Carolina Volume Rendering\u001b[39;00m\n\u001b[1;32m   1206\u001b[0m \u001b[38;5;124;03m    Test Data Set.\u001b[39;00m\n\u001b[1;32m   1207\u001b[0m \n\u001b[0;32m   (...)\u001b[0m\n\u001b[1;32m   1221\u001b[0m \n\u001b[1;32m   1222\u001b[0m \u001b[38;5;124;03m    \"\"\"\u001b[39;00m\n\u001b[0;32m-> 1223\u001b[0m     \u001b[38;5;28;01mreturn\u001b[39;00m \u001b[43m_load\u001b[49m\u001b[43m(\u001b[49m\u001b[38;5;124;43m\"\u001b[39;49m\u001b[38;5;124;43mdata/brain.tiff\u001b[39;49m\u001b[38;5;124;43m\"\u001b[39;49m\u001b[43m)\u001b[49m\n",
      "File \u001b[0;32m/opt/homebrew/lib/python3.12/site-packages/skimage/data/_fetchers.py:336\u001b[0m, in \u001b[0;36m_load\u001b[0;34m(f, as_gray)\u001b[0m\n\u001b[1;32m    332\u001b[0m \u001b[38;5;66;03m# importing io is quite slow since it scans all the backends\u001b[39;00m\n\u001b[1;32m    333\u001b[0m \u001b[38;5;66;03m# we lazy import it here\u001b[39;00m\n\u001b[1;32m    334\u001b[0m \u001b[38;5;28;01mfrom\u001b[39;00m \u001b[38;5;21;01m.\u001b[39;00m\u001b[38;5;21;01m.\u001b[39;00m\u001b[38;5;21;01mio\u001b[39;00m \u001b[38;5;28;01mimport\u001b[39;00m imread\n\u001b[0;32m--> 336\u001b[0m \u001b[38;5;28;01mreturn\u001b[39;00m imread(\u001b[43m_fetch\u001b[49m\u001b[43m(\u001b[49m\u001b[43mf\u001b[49m\u001b[43m)\u001b[49m, as_gray\u001b[38;5;241m=\u001b[39mas_gray)\n",
      "File \u001b[0;32m/opt/homebrew/lib/python3.12/site-packages/skimage/data/_fetchers.py:218\u001b[0m, in \u001b[0;36m_fetch\u001b[0;34m(data_filename)\u001b[0m\n\u001b[1;32m    216\u001b[0m \u001b[38;5;28;01mif\u001b[39;00m _image_fetcher \u001b[38;5;129;01mis\u001b[39;00m \u001b[38;5;28;01mNone\u001b[39;00m:\n\u001b[1;32m    217\u001b[0m     _skip_pytest_case_requiring_pooch(data_filename)\n\u001b[0;32m--> 218\u001b[0m     \u001b[38;5;28;01mraise\u001b[39;00m \u001b[38;5;167;01mModuleNotFoundError\u001b[39;00m(\n\u001b[1;32m    219\u001b[0m         \u001b[38;5;124m\"\u001b[39m\u001b[38;5;124mThe requested file is part of the scikit-image distribution, \u001b[39m\u001b[38;5;124m\"\u001b[39m\n\u001b[1;32m    220\u001b[0m         \u001b[38;5;124m\"\u001b[39m\u001b[38;5;124mbut requires the installation of an optional dependency, pooch. \u001b[39m\u001b[38;5;124m\"\u001b[39m\n\u001b[1;32m    221\u001b[0m         \u001b[38;5;124m\"\u001b[39m\u001b[38;5;124mTo install pooch, use your preferred python package manager. \u001b[39m\u001b[38;5;124m\"\u001b[39m\n\u001b[1;32m    222\u001b[0m         \u001b[38;5;124m\"\u001b[39m\u001b[38;5;124mFollow installation instruction found at \u001b[39m\u001b[38;5;124m\"\u001b[39m\n\u001b[1;32m    223\u001b[0m         \u001b[38;5;124m\"\u001b[39m\u001b[38;5;124mhttps://scikit-image.org/docs/stable/user_guide/install.html\u001b[39m\u001b[38;5;124m\"\u001b[39m\n\u001b[1;32m    224\u001b[0m     )\n\u001b[1;32m    225\u001b[0m \u001b[38;5;66;03m# Download the data with pooch which caches it automatically\u001b[39;00m\n\u001b[1;32m    226\u001b[0m _ensure_cache_dir(target_dir\u001b[38;5;241m=\u001b[39mcache_dir)\n",
      "\u001b[0;31mModuleNotFoundError\u001b[0m: The requested file is part of the scikit-image distribution, but requires the installation of an optional dependency, pooch. To install pooch, use your preferred python package manager. Follow installation instruction found at https://scikit-image.org/docs/stable/user_guide/install.html"
     ]
    }
   ],
   "source": [
    "import numpy as np\n",
    "import matplotlib.pyplot as plt\n",
    "from skimage import data\n",
    "from skimage import measure\n",
    "from mpl_toolkits.mplot3d.art3d import Poly3DCollection\n",
    "\n",
    "# Charger un volume IRM (exemple avec la bibliothèque skimage)\n",
    "volume = data.brain()  # Exemple d'image 3D\n",
    "\n",
    "# Définir une valeur seuil pour l'isovaleur (en fonction de l'intensité du volume)\n",
    "threshold = 100  # Choisissez une valeur adaptée pour extraire la surface\n",
    "\n",
    "# Générer la surface isovaleur à partir du volume\n",
    "verts, faces, _, _ = measure.marching_cubes(volume, threshold)\n",
    "\n",
    "# Création de la figure 3D\n",
    "fig = plt.figure()\n",
    "ax = fig.add_subplot(111, projection='3d')\n",
    "\n",
    "# Affichage de la surface isovaleur\n",
    "mesh = Poly3DCollection(verts[faces], alpha=0.7)\n",
    "mesh.set_facecolor('lightblue')\n",
    "ax.add_collection3d(mesh)\n",
    "\n",
    "# Paramètres des axes\n",
    "ax.set_xlim(0, volume.shape[0])\n",
    "ax.set_ylim(0, volume.shape[1])\n",
    "ax.set_zlim(0, volume.shape[2])\n",
    "ax.set_xlabel('X')\n",
    "ax.set_ylabel('Y')\n",
    "ax.set_zlabel('Z')\n",
    "\n",
    "# Affichage de la figure\n",
    "plt.title('Surface isovaleur dans un volume IRM')\n",
    "plt.show()"
   ]
  },
  {
   "cell_type": "code",
   "execution_count": null,
   "id": "8c79c72f-74fa-4c3b-ad16-d436fbee5177",
   "metadata": {},
   "outputs": [],
   "source": []
  }
 ],
 "metadata": {
  "kernelspec": {
   "display_name": "Python 3 (ipykernel)",
   "language": "python",
   "name": "python3"
  },
  "language_info": {
   "codemirror_mode": {
    "name": "ipython",
    "version": 3
   },
   "file_extension": ".py",
   "mimetype": "text/x-python",
   "name": "python",
   "nbconvert_exporter": "python",
   "pygments_lexer": "ipython3",
   "version": "3.12.6"
  }
 },
 "nbformat": 4,
 "nbformat_minor": 5
}
